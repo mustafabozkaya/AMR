{
 "cells": [
  {
   "cell_type": "code",
   "execution_count": 1,
   "metadata": {},
   "outputs": [
    {
     "name": "stdout",
     "output_type": "stream",
     "text": [
      "Current date and time :  2022-07-05 18:37:03\n"
     ]
    }
   ],
   "source": [
    "import datetime\n",
    "import time\n",
    "\n",
    "# get now time\n",
    "now = datetime.datetime.now()\n",
    "print(\"Current date and time : \", now.strftime(\"%Y-%m-%d %H:%M:%S\"))"
   ]
  },
  {
   "cell_type": "code",
   "execution_count": 3,
   "metadata": {},
   "outputs": [
    {
     "name": "stdout",
     "output_type": "stream",
     "text": [
      "Current date and time :  2022-07-05 18:39:34\n"
     ]
    }
   ],
   "source": [
    "# get now time\n",
    "now2 = datetime.datetime.now()\n",
    "print(\"Current date and time : \", now2.strftime(\"%Y-%m-%d %H:%M:%S\"))"
   ]
  },
  {
   "cell_type": "code",
   "execution_count": 7,
   "metadata": {},
   "outputs": [
    {
     "name": "stdout",
     "output_type": "stream",
     "text": [
      "NOW :  2022-07-05 18:37:36.352118\n"
     ]
    }
   ],
   "source": [
    "print(\"NOW : \", now)"
   ]
  },
  {
   "cell_type": "code",
   "execution_count": 8,
   "metadata": {},
   "outputs": [
    {
     "name": "stdout",
     "output_type": "stream",
     "text": [
      "NOW2 in microseconds :  445423\n"
     ]
    }
   ],
   "source": [
    "print(\"NOW2 in microseconds : \", now2.microsecond)"
   ]
  },
  {
   "cell_type": "code",
   "execution_count": 9,
   "metadata": {},
   "outputs": [
    {
     "name": "stdout",
     "output_type": "stream",
     "text": [
      "NOW2 in seconds :  34\n"
     ]
    }
   ],
   "source": [
    "print(\"NOW2 in seconds : \", now2.second)"
   ]
  },
  {
   "cell_type": "code",
   "execution_count": 10,
   "metadata": {},
   "outputs": [
    {
     "name": "stdout",
     "output_type": "stream",
     "text": [
      "NOW2 in minutes :  39\n"
     ]
    }
   ],
   "source": [
    "print(\"NOW2 in minutes : \", now2.minute)"
   ]
  },
  {
   "cell_type": "code",
   "execution_count": 4,
   "metadata": {},
   "outputs": [
    {
     "name": "stdout",
     "output_type": "stream",
     "text": [
      "Difference :  0:01:58.093305\n"
     ]
    }
   ],
   "source": [
    "# get difference between now and now2\n",
    "diff = now2 - now\n",
    "print(\"Difference : \", diff)"
   ]
  },
  {
   "cell_type": "code",
   "execution_count": 6,
   "metadata": {},
   "outputs": [
    {
     "name": "stdout",
     "output_type": "stream",
     "text": [
      "Difference in seconds :  118.093305\n"
     ]
    }
   ],
   "source": [
    "#get difference between now and now2 in seconds\n",
    "diff_in_seconds = diff.total_seconds()\n",
    "print(\"Difference in seconds : \", diff_in_seconds)"
   ]
  },
  {
   "cell_type": "markdown",
   "metadata": {},
   "source": [
    "Opencv tutorials\n"
   ]
  },
  {
   "cell_type": "code",
   "execution_count": 2,
   "metadata": {},
   "outputs": [],
   "source": [
    "import cv2\n",
    "import numpy as np\n",
    "import rospy"
   ]
  },
  {
   "cell_type": "code",
   "execution_count": 3,
   "metadata": {},
   "outputs": [],
   "source": [
    "#set window size\n",
    "cv2.namedWindow(\"window\", cv2.WINDOW_NORMAL)\n",
    "cv2.resizeWindow(\"window\", 640, 480)\n",
    "cv2.moveWindow(\"window\", 10, 100)\n",
    "cv2.setWindowTitle(\"window\", \"Kameradan Gelen Veriyi Görüntüye Çevirme\")\n",
    "cv2.imshow(\"window\", np.zeros((480, 640, 3), np.uint8))"
   ]
  },
  {
   "cell_type": "code",
   "execution_count": null,
   "metadata": {},
   "outputs": [],
   "source": []
  }
 ],
 "metadata": {
  "kernelspec": {
   "display_name": "Python 3.8.10 64-bit",
   "language": "python",
   "name": "python3"
  },
  "language_info": {
   "codemirror_mode": {
    "name": "ipython",
    "version": 3
   },
   "file_extension": ".py",
   "mimetype": "text/x-python",
   "name": "python",
   "nbconvert_exporter": "python",
   "pygments_lexer": "ipython3",
   "version": "3.8.10"
  },
  "orig_nbformat": 4,
  "vscode": {
   "interpreter": {
    "hash": "916dbcbb3f70747c44a77c7bcd40155683ae19c65e1c03b4aa3499c5328201f1"
   }
  }
 },
 "nbformat": 4,
 "nbformat_minor": 2
}
